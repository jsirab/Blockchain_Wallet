{
 "cells": [
  {
   "cell_type": "code",
   "execution_count": 1,
   "id": "96fe6a94-46d7-41ae-87ac-aa2995114dd9",
   "metadata": {},
   "outputs": [],
   "source": [
    "# Import dependencies\n",
    "import subprocess\n",
    "import json\n",
    "from web3 import Web3"
   ]
  },
  {
   "cell_type": "code",
   "execution_count": 2,
   "id": "e1741e80-0bfe-4807-bea7-3698e512a40a",
   "metadata": {},
   "outputs": [],
   "source": [
    "# Load and set environment variablesfrom dotenv import load_dotenv\n",
    "from dotenv import load_dotenv\n",
    "import os\n",
    "load_dotenv()\n",
    "mnemonic=os.getenv(\"mnemonic\")\n"
   ]
  },
  {
   "cell_type": "code",
   "execution_count": 3,
   "id": "db50329c-a78c-4f00-9c93-1ea140af0776",
   "metadata": {},
   "outputs": [],
   "source": [
    "# Import constants.py and necessary functions from bit and web3 \n",
    "from constants import * \n",
    "from decimal import Decimal\n",
    "from bit import Key, PrivateKey, PrivateKeyTestnet\n",
    "from bit.network import NetworkAPI\n",
    "from bit import *\n",
    "from web3 import Web3\n",
    "from eth_account import Account\n",
    "\n",
    "w3 = Web3(Web3.HTTPProvider(\"http://127.0.0.1:8545\"))\n"
   ]
  },
  {
   "cell_type": "code",
   "execution_count": 4,
   "id": "375ca043-faa4-4350-9e94-71526ef45642",
   "metadata": {},
   "outputs": [
    {
     "data": {
      "text/plain": [
       "'btc-test'"
      ]
     },
     "execution_count": 4,
     "metadata": {},
     "output_type": "execute_result"
    }
   ],
   "source": [
    "BTCTEST"
   ]
  },
  {
   "cell_type": "code",
   "execution_count": 5,
   "id": "321d619e-27ab-466e-b5a8-bfc00df0b942",
   "metadata": {},
   "outputs": [],
   "source": [
    "#Verifiying connection to the Mining Nodes runinig PoA \"zbankchain\" Network:"
   ]
  },
  {
   "cell_type": "code",
   "execution_count": 6,
   "id": "8a373f29-4d1a-4761-b39f-45c66787e7ab",
   "metadata": {},
   "outputs": [
    {
     "data": {
      "text/plain": [
       "904625697166532776746648320380374280103671755200316905558263215061821325312"
      ]
     },
     "execution_count": 6,
     "metadata": {},
     "output_type": "execute_result"
    }
   ],
   "source": [
    "w3.eth.getBalance(Web3.toChecksumAddress(\"0x68Ddf56d22e583Ad5104dcb27f9adf4f0AEf64f5\"))"
   ]
  },
  {
   "cell_type": "code",
   "execution_count": 17,
   "id": "5f245bde-4c32-41eb-9f34-fb9d5c13db2f",
   "metadata": {},
   "outputs": [
    {
     "data": {
      "text/plain": [
       "464"
      ]
     },
     "execution_count": 17,
     "metadata": {},
     "output_type": "execute_result"
    }
   ],
   "source": [
    "w3.eth.blockNumber"
   ]
  },
  {
   "cell_type": "code",
   "execution_count": 8,
   "id": "a46b063e-f558-4f55-80a2-864897f1e6ba",
   "metadata": {},
   "outputs": [
    {
     "data": {
      "text/plain": [
       "904625697166532776746648320380374280103671755200316905558263215061821325312"
      ]
     },
     "execution_count": 8,
     "metadata": {},
     "output_type": "execute_result"
    }
   ],
   "source": [
    "w3.eth.getBalance(Web3.toChecksumAddress(\"0x68Ddf56d22e583Ad5104dcb27f9adf4f0AEf64f5\"))"
   ]
  },
  {
   "cell_type": "code",
   "execution_count": 32,
   "id": "587e8e13-e72b-4529-8f82-a80ec1b2ccc8",
   "metadata": {},
   "outputs": [],
   "source": [
    "# Create a function called `derive_wallets`\n",
    "def derive_wallets(mnemonic, coin, numderive):\n",
    "    command = f'./derive -g --mnemonic=\"{mnemonic}\" --numderive=\"{numderive}\" --coin=\"{coin}\" --format=json' \n",
    "    p = subprocess.Popen(command, stdout=subprocess.PIPE, shell=True)\n",
    "    output, err = p.communicate()\n",
    "    p_status = p.wait()\n",
    "    return json.loads(output)\n"
   ]
  },
  {
   "cell_type": "code",
   "execution_count": 10,
   "id": "358656cf-180a-493c-989e-db73da5a1c9d",
   "metadata": {},
   "outputs": [
    {
     "data": {
      "text/plain": [
       "[{'path': \"m/44'/60'/0'/0/0\",\n",
       "  'address': '0x02194a55DDA1B029F70220D53f099F38c629ab36',\n",
       "  'xprv': 'xprvA2UAbkzcn2ntbeUWWeryfF3uDhgNm4dauGWnvnDix6CsvCzQuvLXjSRM7JTtTTWK9sX95nFVJwYhVGxXqPToYqhz27ChLeVmsCQQXUKHxdM',\n",
       "  'xpub': 'xpub6FTX1GXWcQMBp8YycgPz2NzdmjWsAXMSGVSPjAdLWRjro1KZTTenHEjpxbBjGGK7wisPZe4htBommydMu8aPzi3Y94xHEdcN3ANiCP23RiY',\n",
       "  'privkey': '0xd36d0f9ff2f6dc80208cd19e0b7d939f11bd1a63d10c38cdc1c58f4dbbc95edc',\n",
       "  'pubkey': '03b21e2e1bc0b74c298d113c5c305c80cc76e67c4ff29e9b31028ea17328f8bba8',\n",
       "  'pubkeyhash': 'a85e006b705f905c3e0e82485a33bf5bae8da52e',\n",
       "  'index': 0},\n",
       " {'path': \"m/44'/60'/0'/0/1\",\n",
       "  'address': '0x3dFb64A5AdAe2aDece2E252FE5E889d61Ef75122',\n",
       "  'xprv': 'xprvA2UAbkzcn2ntezNrVAWRNF7yPRSuWDGEu7CdrwoNhYEjuJdeqhFC9zpZ9Uomp4Tuzf47cQ661EzPLErPP9nSvAHoboLqYTTpNd1xfeFGuUP',\n",
       "  'xpub': 'xpub6FTX1GXWcQMBsUTKbC3RjP4hwTHPufz6GL8EfLCzFsmin6xoPEZSho92znBTHFATi3RFHmhJLpwwR7P9KXcN9f4jAs4YUHRkkyg7spW5kZe',\n",
       "  'privkey': '0x81b180541f1ae73a48976095a58a342611fcedac9c00758510c0f3c0c63e5710',\n",
       "  'pubkey': '03b64da52e7b23d110002752118ecc97052e6637d916794bef1eaac7bba0a54d3b',\n",
       "  'pubkeyhash': '5d352e57cab65ca61793104f70e4b0f4543527aa',\n",
       "  'index': 1},\n",
       " {'path': \"m/44'/60'/0'/0/2\",\n",
       "  'address': '0xdeA9cE1d814f6dAaEe900D864B7f1974Ab2f0A44',\n",
       "  'xprv': 'xprvA2UAbkzcn2ntgZeXYbMHsrr7QnjdtoitxZDqhxkueuRiE6Eb1xqHUjriskG2mrFftCL29AUAj85B22PtvpSqspSWzLp9tzAQ9CsVKiW84m6',\n",
       "  'xpub': 'xpub6FTX1GXWcQMBu3izectJEznqxpa8JGSkKn9SWMAXDExh6tZjZW9Y2YBCj3zfvXnQGoSrYoft3EGeXcURDCp9Mm9Rg4S3hug3GW2UeTFcFsQ',\n",
       "  'privkey': '0x815b3bc011096f513a633ed35581e057423680405381db490576d48b95e1ab15',\n",
       "  'pubkey': '03e58f0070091a989dbede3de95458ddd960381f1846f4414dcc896edc04907735',\n",
       "  'pubkeyhash': 'f1ba997dd9013d7140ac9367cf66ed197c1413b6',\n",
       "  'index': 2}]"
      ]
     },
     "execution_count": 10,
     "metadata": {},
     "output_type": "execute_result"
    }
   ],
   "source": [
    "derive_wallets(mnemonic,ETH,3)\n"
   ]
  },
  {
   "cell_type": "code",
   "execution_count": 11,
   "id": "709ad7a7-a1dd-46a6-94d9-a17406fa1d30",
   "metadata": {},
   "outputs": [
    {
     "data": {
      "text/plain": [
       "[{'path': \"m/44'/1'/0'/0/0\",\n",
       "  'address': 'mkwqRYLAfeoMJnnb5A9WegujdggyBeEPGD',\n",
       "  'xprv': 'tprv8khhNkzGYHzyhzgCwAKEf4xVvkBbV2vWqBQpybEMhGHivv3WgwhnjdCguDwQ1ujRnN5JWEM8q8nE8zjHSrthSTvMcxb6V575s5x2zT3q1Pk',\n",
       "  'xpub': 'tpubDHPjXB2WgfgebThzpoyq4UccVmhXeN7RQV1cG7Gf7Y67mQJHKLXNv7pZ5M2WvzFPpQyVgMB9znNEFMefiFvgn7r72wMott5xBJksEZUfWX5',\n",
       "  'privkey': 'cUMT7ptJgxrwSm9s5zSUCKUhSNVq1UC9v31vgoSusyukAciNMdDt',\n",
       "  'pubkey': '02dcb7a11c7172966e58679c0cb207bfb95d119cc55f9fb318d0a522aaff5b9577',\n",
       "  'pubkeyhash': '3b8d4adb98c1922686a0b9b3f10ee0f1ef7a2eb8',\n",
       "  'index': 0},\n",
       " {'path': \"m/44'/1'/0'/0/1\",\n",
       "  'address': 'mmUQuAvBYqVpKzayhaYvnJe9VuwkRdSWPu',\n",
       "  'xprv': 'tprv8khhNkzGYHzyj6e6K8iKuPTCw6YLNRA3tRKCphDT4Yis5AKoPbwFLH7zqay3WqqcsnHCwJZedosPPAXcrHehSKV7MBy57KVPQxyQ3tHyq4g',\n",
       "  'xpub': 'tpubDHPjXB2WgfgecZftCnNvJo7KW84GXkLxTiuz7DFkUpXFueaa1zkqWmjs1gg5EbtryQSJ81NQyoDwvXGWvis4AtWXeZXh9juHNWhUCGZwfRJ',\n",
       "  'privkey': 'cVj1Q51vqgtBEYokpcb6RtjMwVbAsaCmrQRyjMTHFm5rGoziYe44',\n",
       "  'pubkey': '024fca815b769b3e6920eb31081de336536e0a0dcba4955b6d7773b8acc205e0b4',\n",
       "  'pubkeyhash': '4155b748ac4f668e327a8b7a7c928241ba09eb85',\n",
       "  'index': 1},\n",
       " {'path': \"m/44'/1'/0'/0/2\",\n",
       "  'address': 'mxYAxY575hg56rGtU3n6754GfqCKRxzvep',\n",
       "  'xprv': 'tprv8khhNkzGYHzymedp2vc5YrDY9Wo8pZHMTSMLVs5QX2JRV3iaHkTveCATn7hwZehVuu3HV986zzRHULnTF3dUB4gior6YYpv39vDdGmZtvo5',\n",
       "  'xpub': 'tpubDHPjXB2Wgfgef7fbvaGfxFseiYK4ytUG2jx7nP7hwJ6pKXyLv9HWpgnKxHwpFx9yRGdHH7nRWwNVZJ39Neu7znX2LCPrWVgVDEN53WphdpV',\n",
       "  'privkey': 'cMzhL3wx92ETkcCDyTt8ouz8pXQnp7RBpE3pHu1637Sn16qVW9vo',\n",
       "  'pubkey': '03bdfba2cebb0d9fa135451ec068d05e6ddf07d8c79c13afa46b4658b3942cf087',\n",
       "  'pubkeyhash': 'bab5200f7b800fc1fda9a7449df8b99064501931',\n",
       "  'index': 2}]"
      ]
     },
     "execution_count": 11,
     "metadata": {},
     "output_type": "execute_result"
    }
   ],
   "source": [
    "derive_wallets(mnemonic,BTCTEST,3)"
   ]
  },
  {
   "cell_type": "code",
   "execution_count": 12,
   "id": "28a9b1a1-b8b2-4ed5-a628-70cee8cd640b",
   "metadata": {},
   "outputs": [
    {
     "data": {
      "text/plain": [
       "{'eth': [{'path': \"m/44'/60'/0'/0/0\",\n",
       "   'address': '0x02194a55DDA1B029F70220D53f099F38c629ab36',\n",
       "   'xprv': 'xprvA2UAbkzcn2ntbeUWWeryfF3uDhgNm4dauGWnvnDix6CsvCzQuvLXjSRM7JTtTTWK9sX95nFVJwYhVGxXqPToYqhz27ChLeVmsCQQXUKHxdM',\n",
       "   'xpub': 'xpub6FTX1GXWcQMBp8YycgPz2NzdmjWsAXMSGVSPjAdLWRjro1KZTTenHEjpxbBjGGK7wisPZe4htBommydMu8aPzi3Y94xHEdcN3ANiCP23RiY',\n",
       "   'privkey': '0xd36d0f9ff2f6dc80208cd19e0b7d939f11bd1a63d10c38cdc1c58f4dbbc95edc',\n",
       "   'pubkey': '03b21e2e1bc0b74c298d113c5c305c80cc76e67c4ff29e9b31028ea17328f8bba8',\n",
       "   'pubkeyhash': 'a85e006b705f905c3e0e82485a33bf5bae8da52e',\n",
       "   'index': 0},\n",
       "  {'path': \"m/44'/60'/0'/0/1\",\n",
       "   'address': '0x3dFb64A5AdAe2aDece2E252FE5E889d61Ef75122',\n",
       "   'xprv': 'xprvA2UAbkzcn2ntezNrVAWRNF7yPRSuWDGEu7CdrwoNhYEjuJdeqhFC9zpZ9Uomp4Tuzf47cQ661EzPLErPP9nSvAHoboLqYTTpNd1xfeFGuUP',\n",
       "   'xpub': 'xpub6FTX1GXWcQMBsUTKbC3RjP4hwTHPufz6GL8EfLCzFsmin6xoPEZSho92znBTHFATi3RFHmhJLpwwR7P9KXcN9f4jAs4YUHRkkyg7spW5kZe',\n",
       "   'privkey': '0x81b180541f1ae73a48976095a58a342611fcedac9c00758510c0f3c0c63e5710',\n",
       "   'pubkey': '03b64da52e7b23d110002752118ecc97052e6637d916794bef1eaac7bba0a54d3b',\n",
       "   'pubkeyhash': '5d352e57cab65ca61793104f70e4b0f4543527aa',\n",
       "   'index': 1},\n",
       "  {'path': \"m/44'/60'/0'/0/2\",\n",
       "   'address': '0xdeA9cE1d814f6dAaEe900D864B7f1974Ab2f0A44',\n",
       "   'xprv': 'xprvA2UAbkzcn2ntgZeXYbMHsrr7QnjdtoitxZDqhxkueuRiE6Eb1xqHUjriskG2mrFftCL29AUAj85B22PtvpSqspSWzLp9tzAQ9CsVKiW84m6',\n",
       "   'xpub': 'xpub6FTX1GXWcQMBu3izectJEznqxpa8JGSkKn9SWMAXDExh6tZjZW9Y2YBCj3zfvXnQGoSrYoft3EGeXcURDCp9Mm9Rg4S3hug3GW2UeTFcFsQ',\n",
       "   'privkey': '0x815b3bc011096f513a633ed35581e057423680405381db490576d48b95e1ab15',\n",
       "   'pubkey': '03e58f0070091a989dbede3de95458ddd960381f1846f4414dcc896edc04907735',\n",
       "   'pubkeyhash': 'f1ba997dd9013d7140ac9367cf66ed197c1413b6',\n",
       "   'index': 2}],\n",
       " 'btc-test': [{'path': \"m/44'/1'/0'/0/0\",\n",
       "   'address': 'mkwqRYLAfeoMJnnb5A9WegujdggyBeEPGD',\n",
       "   'xprv': 'tprv8khhNkzGYHzyhzgCwAKEf4xVvkBbV2vWqBQpybEMhGHivv3WgwhnjdCguDwQ1ujRnN5JWEM8q8nE8zjHSrthSTvMcxb6V575s5x2zT3q1Pk',\n",
       "   'xpub': 'tpubDHPjXB2WgfgebThzpoyq4UccVmhXeN7RQV1cG7Gf7Y67mQJHKLXNv7pZ5M2WvzFPpQyVgMB9znNEFMefiFvgn7r72wMott5xBJksEZUfWX5',\n",
       "   'privkey': 'cUMT7ptJgxrwSm9s5zSUCKUhSNVq1UC9v31vgoSusyukAciNMdDt',\n",
       "   'pubkey': '02dcb7a11c7172966e58679c0cb207bfb95d119cc55f9fb318d0a522aaff5b9577',\n",
       "   'pubkeyhash': '3b8d4adb98c1922686a0b9b3f10ee0f1ef7a2eb8',\n",
       "   'index': 0},\n",
       "  {'path': \"m/44'/1'/0'/0/1\",\n",
       "   'address': 'mmUQuAvBYqVpKzayhaYvnJe9VuwkRdSWPu',\n",
       "   'xprv': 'tprv8khhNkzGYHzyj6e6K8iKuPTCw6YLNRA3tRKCphDT4Yis5AKoPbwFLH7zqay3WqqcsnHCwJZedosPPAXcrHehSKV7MBy57KVPQxyQ3tHyq4g',\n",
       "   'xpub': 'tpubDHPjXB2WgfgecZftCnNvJo7KW84GXkLxTiuz7DFkUpXFueaa1zkqWmjs1gg5EbtryQSJ81NQyoDwvXGWvis4AtWXeZXh9juHNWhUCGZwfRJ',\n",
       "   'privkey': 'cVj1Q51vqgtBEYokpcb6RtjMwVbAsaCmrQRyjMTHFm5rGoziYe44',\n",
       "   'pubkey': '024fca815b769b3e6920eb31081de336536e0a0dcba4955b6d7773b8acc205e0b4',\n",
       "   'pubkeyhash': '4155b748ac4f668e327a8b7a7c928241ba09eb85',\n",
       "   'index': 1},\n",
       "  {'path': \"m/44'/1'/0'/0/2\",\n",
       "   'address': 'mxYAxY575hg56rGtU3n6754GfqCKRxzvep',\n",
       "   'xprv': 'tprv8khhNkzGYHzymedp2vc5YrDY9Wo8pZHMTSMLVs5QX2JRV3iaHkTveCATn7hwZehVuu3HV986zzRHULnTF3dUB4gior6YYpv39vDdGmZtvo5',\n",
       "   'xpub': 'tpubDHPjXB2Wgfgef7fbvaGfxFseiYK4ytUG2jx7nP7hwJ6pKXyLv9HWpgnKxHwpFx9yRGdHH7nRWwNVZJ39Neu7znX2LCPrWVgVDEN53WphdpV',\n",
       "   'privkey': 'cMzhL3wx92ETkcCDyTt8ouz8pXQnp7RBpE3pHu1637Sn16qVW9vo',\n",
       "   'pubkey': '03bdfba2cebb0d9fa135451ec068d05e6ddf07d8c79c13afa46b4658b3942cf087',\n",
       "   'pubkeyhash': 'bab5200f7b800fc1fda9a7449df8b99064501931',\n",
       "   'index': 2}]}"
      ]
     },
     "execution_count": 12,
     "metadata": {},
     "output_type": "execute_result"
    }
   ],
   "source": [
    "# Create a dictionary object called coins to store the output from `derive_wallets`.\n",
    "coins ={ ETH : derive_wallets(mnemonic,ETH,3),\n",
    "         BTCTEST : derive_wallets(mnemonic,BTCTEST,3)\n",
    "}\n",
    "coins"
   ]
  },
  {
   "cell_type": "code",
   "execution_count": 27,
   "id": "3b6c40fb-6a90-44ef-a82d-be74fc1d5f0e",
   "metadata": {},
   "outputs": [],
   "source": [
    "command = './derive -g --mnemonic=\"{mnemonic}\" --cols=path,address,privkey,pubkey --coin=BTC'"
   ]
  },
  {
   "cell_type": "code",
   "execution_count": 30,
   "id": "ed80820e-9eb1-40cd-972e-00b00e138d45",
   "metadata": {},
   "outputs": [
    {
     "data": {
      "text/plain": [
       "['',\n",
       " '+-----------------+------------------------------------+------------------------------------------------------+--------------------------------------------------------------------+',\n",
       " '| path            | address                            | privkey                                              | pubkey                                                             |',\n",
       " '+-----------------+------------------------------------+------------------------------------------------------+--------------------------------------------------------------------+',\n",
       " \"| m/44'/0'/0'/0/0 | 1Hk26uv3aSo2WmKNPbeUGjNWPFDBLU2waW | KzQ3o74J1R3MFuzvRNQWjckRz3AYZHgggJRbs3P7TH1ZoXJqKety | 0399c9a8f6933934bfe811fc524c0e8684f971819398a0581f20ddf6371db0bb18 |\",\n",
       " \"| m/44'/0'/0'/0/1 | 16LsmsW5nshaMWz4XXE9qZjE1HHEEF61Ma | L3PRGxRUzyYGDEnWsdtyunpa5DCfYcgKfBSCCXGEHofUyxYj7zc6 | 03412c487c7a81706519d3236215f717b9134a39e0447e1a70de08fd65d83ab7e1 |\",\n",
       " \"| m/44'/0'/0'/0/2 | 1NdkcejAbVQToA8Zc9mhevqxTwYp1oreey | KwuLeHZMNR4D9D4EHBTT2v3B3imvZdcv3tK3WJ8Ju4cSBBuU9XvA | 02ead7d72915461c3a194b3a48c5af29caf1a570057b635bba031541dedd498521 |\",\n",
       " \"| m/44'/0'/0'/0/3 | 17LvJvKRxuSK9q2Lb78yBZbY1ZEj1e2T1U | Kx6BfpMFnARooY8JaQanofMsNJGHEUQCZuwdFoi6k4GvpGWSnE4U | 026c7c1e179aa4e3cc0afca79ce4a0a44a5b9f75782703cd10fdca429af85da50a |\",\n",
       " \"| m/44'/0'/0'/0/4 | 1KuqqdcnqX35KtvGKjGZXxfY7wKLBres1r | L34tGc4aX9BsKCJZh9G7fGnxtKDrxzhenNkJnrcWrnRvzhDAkEvm | 021d905a08653dd5c76ac116452a166d525ed0ddedc94651d6d43ab6b0e7affda5 |\",\n",
       " \"| m/44'/0'/0'/0/5 | 15Vn3hj57mwyHaF8C2F5SQJox6MGvVAdWD | L4A1WN5n8PZVanayedhwNGVm4QKdYPRBr6uBRzMdryC4313YEAHh | 02da3c39d31cd5f9edbd43ddc93374951cd4361922359af593d5ef4104950469ff |\",\n",
       " \"| m/44'/0'/0'/0/6 | 1JQfYaHkXRPq43zsvy4duZrfgmdAEX6YxN | KzjwjRRSjc3o1m2SrAs4mCRFwtLYWQnKoPuEN1AvNgCC9fxLKvzR | 02b709501ca01dfae7c52d0c157bbbbc0a74885061123e839e26872548f23d24cc |\",\n",
       " \"| m/44'/0'/0'/0/7 | 18Qhuewi1sSW9ERmT4hE7ohoQu1uo2zW73 | KyXQmWWuTb5D6U3pFhbdLHAjPkiKZFdonQyYgnS38exJazzphsaK | 03ad07ea8e4ba4011b28c81910b5ba864c9da838b3da6612eb22c52b12786bafef |\",\n",
       " \"| m/44'/0'/0'/0/8 | 1PV1pCTaqUdgmvrZjZt7UrrnrBLbxxWj5Y | KwPzXx9UcTTt12AWvdc4DKDuSpnbYY9uTMExpxrJuzcEDXzTmDgA | 02145f751907e59be5380e61d5869368921b5721323b619f6f507db109cda8f4b2 |\",\n",
       " \"| m/44'/0'/0'/0/9 | 1PU6ZYmkbGWnFpaoT444uWg5HnUT66r3h5 | L2mSAuoE98WUpzHYhe7DAZdYDTfM4mnVpHg3TgGYA4BkpqgqS2xu | 0200a87c497f8574ba60e0e875ba4ddd9adfe4e1919d628a51c7008630c5ce97ca |\",\n",
       " '+-----------------+------------------------------------+------------------------------------------------------+--------------------------------------------------------------------+',\n",
       " '']"
      ]
     },
     "execution_count": 30,
     "metadata": {},
     "output_type": "execute_result"
    }
   ],
   "source": [
    "p= !./derive -g --mnemonic=\"{mnemonic}\" --cols=path,address,privkey,pubkey --coin=BTC\n",
    "p"
   ]
  },
  {
   "cell_type": "code",
   "execution_count": 34,
   "id": "70584ebc-383d-4647-a7ce-d82e4a7d85f3",
   "metadata": {},
   "outputs": [],
   "source": [
    "\n",
    "# Create a function called `priv_key_to_account` that converts privkey strings to account objects.\n",
    "def priv_key_to_account(coin, priv_key):\n",
    "    if coin == ETH:\n",
    "        return Account.privateKeyToAccount(priv_key)\n",
    "    elif coin == BTCTEST:\n",
    "        return PrivateKeyTestnet(priv_key)\n",
    "    return None \n"
   ]
  },
  {
   "cell_type": "code",
   "execution_count": 35,
   "id": "28ac5495-46a8-46c3-825b-23acdb59be60",
   "metadata": {},
   "outputs": [],
   "source": [
    "# Create a function called `create_tx` that creates an unsigned transaction appropriate metadata.\n",
    "def create_tx(coin, account, to, amount):\n",
    "    if coin == ETH: \n",
    "        gasEstimate = w3.eth.estimateGas(\n",
    "            {\"from\":account.address, \"to\":to, \"value\": amount}\n",
    "        )\n",
    "        return { \n",
    "            \"from\": account.address,\n",
    "            \"to\": to,\n",
    "            \"value\": amount,\n",
    "            \"gasPrice\": w3.eth.gasPrice,\n",
    "            \"gas\": gasEstimate,\n",
    "            \"nonce\": w3.eth.getTransactionCount(eth_acc.address)\n",
    "        }\n",
    "    \n",
    "    elif coin == BTCTEST:\n",
    "        return PrivateKeyTestnet.prepare_transaction(account.address, [(to, amount, BTC)])"
   ]
  },
  {
   "cell_type": "code",
   "execution_count": 37,
   "id": "8f78d72c-2a1d-443c-95e7-9c8557a88306",
   "metadata": {},
   "outputs": [],
   "source": [
    "# Create a function called `send_tx` that calls `create_tx`, signs and sends the transaction.\n",
    "def send_tx(coin,account,to, amount):\n",
    "    raw_tx = create_tx(coin, account, to, amount)\n",
    "    if coin == ETH:\n",
    "        signed_tx = account.sign_transaction(raw_tx)\n",
    "        result = w3.eth.sendRawTransaction(signed_tx.rawTransaction)\n",
    "        return result.hex()\n",
    "    elif coin == BTCTEST:\n",
    "        signed_tx = account.sign_transaction(rawt_x)\n",
    "        return NetworkAPI.broadcast_tx_testnet(signed_tx)"
   ]
  },
  {
   "cell_type": "raw",
   "id": "b6e1f5f5-d9e4-4678-a321-064bfc0dec67",
   "metadata": {},
   "source": []
  }
 ],
 "metadata": {
  "kernelspec": {
   "display_name": "Python 3",
   "language": "python",
   "name": "python3"
  },
  "language_info": {
   "codemirror_mode": {
    "name": "ipython",
    "version": 3
   },
   "file_extension": ".py",
   "mimetype": "text/x-python",
   "name": "python",
   "nbconvert_exporter": "python",
   "pygments_lexer": "ipython3",
   "version": "3.8.8"
  }
 },
 "nbformat": 4,
 "nbformat_minor": 5
}
